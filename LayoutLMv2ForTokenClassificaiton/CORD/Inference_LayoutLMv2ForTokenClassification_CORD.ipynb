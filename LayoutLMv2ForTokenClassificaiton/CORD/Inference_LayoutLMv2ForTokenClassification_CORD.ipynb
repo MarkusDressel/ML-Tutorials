{
 "cells": [
  {
   "cell_type": "code",
   "execution_count": 2,
   "id": "f92a2ce6",
   "metadata": {},
   "outputs": [],
   "source": [
    "from transformers import LayoutLMv2Processor\n",
    "from PIL import Image, ImageDraw, ImageFont\n",
    "from datasets import load_dataset \n",
    "from transformers import LayoutLMv2ForTokenClassification"
   ]
  },
  {
   "cell_type": "raw",
   "id": "1cbd0b61",
   "metadata": {},
   "source": []
  },
  {
   "cell_type": "code",
   "execution_count": 8,
   "id": "d37567d6",
   "metadata": {},
   "outputs": [
    {
     "data": {
      "application/vnd.jupyter.widget-view+json": {
       "model_id": "b606bc694ab04cdab13a28a8d26e83a0",
       "version_major": 2,
       "version_minor": 0
      },
      "text/plain": [
       "Downloading:   0%|          | 0.00/4.49k [00:00<?, ?B/s]"
      ]
     },
     "metadata": {},
     "output_type": "display_data"
    },
    {
     "data": {
      "application/vnd.jupyter.widget-view+json": {
       "model_id": "585ab852e6564b0cb565b097500a4d9b",
       "version_major": 2,
       "version_minor": 0
      },
      "text/plain": [
       "Downloading:   0%|          | 0.00/765M [00:00<?, ?B/s]"
      ]
     },
     "metadata": {},
     "output_type": "display_data"
    }
   ],
   "source": [
    "model = LayoutLMv2ForTokenClassification.from_pretrained(\"MarkusDressel/cord\")\n"
   ]
  },
  {
   "cell_type": "code",
   "execution_count": null,
   "id": "5a2f8c74",
   "metadata": {},
   "outputs": [],
   "source": [
    "dataset = load_dataset(\"mode/layoutLMv2_Cord\")"
   ]
  },
  {
   "cell_type": "code",
   "execution_count": null,
   "id": "6d51592c",
   "metadata": {},
   "outputs": [],
   "source": [
    "example = dataset[\"test\"][1]"
   ]
  },
  {
   "cell_type": "code",
   "execution_count": null,
   "id": "57119b3a",
   "metadata": {},
   "outputs": [],
   "source": [
    "processor = LayoutLMv2Processor.from_pretrained(\"microsoft/layoutlmv2-base-uncased\")\n",
    "\n",
    "encoding = processor(image, return_offsets_mapping=True, return_tensors=\"pt\")\n",
    "offset_mapping = encoding.pop('offset_mapping')\n",
    "print(encoding.keys())"
   ]
  },
  {
   "cell_type": "code",
   "execution_count": null,
   "id": "77586260",
   "metadata": {},
   "outputs": [],
   "source": [
    "import torch\n",
    "\n",
    "device = torch.device('cuda' if torch.cuda.is_available() else 'cpu')\n",
    "for k,v in encoding.items():\n",
    "    encoding[k] = v.to(device)"
   ]
  },
  {
   "cell_type": "code",
   "execution_count": null,
   "id": "0c3902f1",
   "metadata": {},
   "outputs": [],
   "source": [
    "\n",
    "\n",
    "# load the fine-tuned model from the hub\n",
    "model = LayoutLMv2ForTokenClassification.from_pretrained(\"mode/layoutLMv2_Cord\")\n",
    "model.to(device)\n",
    "\n",
    "# forward pass\n",
    "outputs = model(**encoding)"
   ]
  },
  {
   "cell_type": "code",
   "execution_count": null,
   "id": "e936e796",
   "metadata": {},
   "outputs": [],
   "source": [
    "id2label = model.config.id2label\n",
    "label2id = model.config.label2id"
   ]
  },
  {
   "cell_type": "code",
   "execution_count": null,
   "id": "1740f102",
   "metadata": {},
   "outputs": [],
   "source": [
    "from PIL import ImageDraw\n",
    "\n",
    "draw = ImageDraw.Draw(image)\n",
    "\n",
    "font = ImageFont.load_default()\n",
    "\n",
    "def iob_to_label(label):\n",
    "    label = label[2:]\n",
    "    if not label:\n",
    "      return 'other'\n",
    "    return label\n",
    "\n",
    "label2color = {'question':'blue', 'answer':'green', 'header':'orange', 'other':'violet'}\n",
    "\n",
    "for prediction, box in zip(true_predictions, true_boxes):\n",
    "    predicted_label = iob_to_label(prediction).lower()\n",
    "    draw.rectangle(box, outline=label2color[predicted_label])\n",
    "    draw.text((box[0]+10, box[1]-10), text=predicted_label, fill=label2color[predicted_label], font=font)\n",
    "\n",
    "image"
   ]
  },
  {
   "cell_type": "code",
   "execution_count": null,
   "id": "a7ca47db",
   "metadata": {},
   "outputs": [],
   "source": []
  },
  {
   "cell_type": "code",
   "execution_count": null,
   "id": "87a73af2",
   "metadata": {},
   "outputs": [],
   "source": []
  },
  {
   "cell_type": "code",
   "execution_count": null,
   "id": "2afb065f",
   "metadata": {},
   "outputs": [],
   "source": []
  }
 ],
 "metadata": {
  "kernelspec": {
   "display_name": "Python 3 (ipykernel)",
   "language": "python",
   "name": "python3"
  },
  "language_info": {
   "codemirror_mode": {
    "name": "ipython",
    "version": 3
   },
   "file_extension": ".py",
   "mimetype": "text/x-python",
   "name": "python",
   "nbconvert_exporter": "python",
   "pygments_lexer": "ipython3",
   "version": "3.8.4"
  }
 },
 "nbformat": 4,
 "nbformat_minor": 5
}
